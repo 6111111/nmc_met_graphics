{
 "cells": [
  {
   "cell_type": "markdown",
   "metadata": {},
   "source": [
    "# 使用BaseMap绘制地图\n",
    "\n",
    "#### —— nmc_met_graphics程序库使用说明\n",
    "\n",
    "国家气象中心天气预报技术研发室    \n",
    "Sep, 2020    \n",
    "Kan Dai "
   ]
  },
  {
   "cell_type": "markdown",
   "metadata": {},
   "source": [
    "nmc_met_graphics提供BaseMap类, 用于方便地绘制中国地图.\n",
    "\n",
    "* 对Cartopy地图绘制进行封装\n",
    "* 提供中国国界, 省界, 河流和县界等的绘制\n",
    "* 提供对国家或省份区域外的白化\n",
    "* 提供天地, Arcgis等背景图\n",
    "\n",
    "## Prepare"
   ]
  },
  {
   "cell_type": "code",
   "execution_count": 1,
   "metadata": {},
   "outputs": [],
   "source": [
    "%matplotlib inline\n",
    "%load_ext autoreload\n",
    "%autoreload 2"
   ]
  },
  {
   "cell_type": "code",
   "execution_count": null,
   "metadata": {},
   "outputs": [],
   "source": [
    "# load libraries\n",
    "import matplotlib.pyplot as plt\n",
    "import cartopy"
   ]
  }
 ],
 "metadata": {
  "kernelspec": {
   "display_name": "Meteorology with Python",
   "language": "python",
   "name": "met"
  },
  "language_info": {
   "codemirror_mode": {
    "name": "ipython",
    "version": 3
   },
   "file_extension": ".py",
   "mimetype": "text/x-python",
   "name": "python",
   "nbconvert_exporter": "python",
   "pygments_lexer": "ipython3",
   "version": "3.7.8"
  },
  "widgets": {
   "application/vnd.jupyter.widget-state+json": {
    "state": {},
    "version_major": 2,
    "version_minor": 0
   }
  }
 },
 "nbformat": 4,
 "nbformat_minor": 4
}
